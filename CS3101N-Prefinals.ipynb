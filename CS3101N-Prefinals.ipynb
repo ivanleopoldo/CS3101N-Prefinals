{
 "cells": [
  {
   "cell_type": "code",
   "execution_count": 1,
   "metadata": {},
   "outputs": [],
   "source": [
    "def read_file(file):\n",
    "    with open(file) as f:\n",
    "        contents = f.readlines()\n",
    "\n",
    "    attributes = contents[2: contents.index('@data\\n')]\n",
    "    data = contents[contents.index('@data\\n') + 1:]\n",
    "\n",
    "    return attributes, data\n",
    "\n",
    "\n",
    "attributes, data = read_file('./V4 data/2020.arff')\n",
    "print(attributes)"
   ]
  },
  {
   "cell_type": "code",
   "execution_count": null,
   "metadata": {},
   "outputs": [],
   "source": [
    "def parse_data(attributes, data):\n",
    "    pass"
   ]
  }
 ],
 "metadata": {
  "kernelspec": {
   "display_name": "Python 3 (ipykernel)",
   "language": "python",
   "name": "python3"
  },
  "language_info": {
   "codemirror_mode": {
    "name": "ipython",
    "version": 3
   },
   "file_extension": ".py",
   "mimetype": "text/x-python",
   "name": "python",
   "nbconvert_exporter": "python",
   "pygments_lexer": "ipython3",
   "version": "3.12.0"
  }
 },
 "nbformat": 4,
 "nbformat_minor": 2
}
